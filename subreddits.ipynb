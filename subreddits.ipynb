{
 "cells": [
  {
   "cell_type": "code",
   "execution_count": 22,
   "metadata": {
    "collapsed": false
   },
   "outputs": [],
   "source": [
    "import numpy as np\n",
    "from matplotlib import pyplot as plt\n",
    "import os\n",
    "import h5py\n",
    "import pickle\n",
    "import re\n",
    "import pdb\n",
    "from collections import defaultdict, Counter\n",
    "from nltk.corpus import stopwords\n",
    "%matplotlib inline"
   ]
  },
  {
   "cell_type": "code",
   "execution_count": 44,
   "metadata": {
    "collapsed": false
   },
   "outputs": [],
   "source": [
    "path = '/dfs/scratch0/wleif/Reddit/clean_comments/'\n",
    "subreddits = os.listdir(path)\n",
    "subreddits = ['news']"
   ]
  },
  {
   "cell_type": "code",
   "execution_count": 45,
   "metadata": {
    "collapsed": false
   },
   "outputs": [
    {
     "name": "stdout",
     "output_type": "stream",
     "text": [
      "Finished 1\n"
     ]
    }
   ],
   "source": [
    "#%%timeit -n1 -r1\n",
    "print_every = 1\n",
    "\n",
    "usr2ind = {}\n",
    "ind2usr = {}\n",
    "n_users = 0\n",
    "\n",
    "sub2ind = {}\n",
    "ind2sub = {}\n",
    "n_subs = len(subreddits)\n",
    "\n",
    "users = {}\n",
    "\n",
    "for i, subreddit in enumerate(subreddits):\n",
    "    sub2ind[subreddit] = i\n",
    "    ind2sub[i] = subreddit\n",
    "    with open(path+subreddit+'.tsv', 'r') as df:\n",
    "        #raw_data = np.genfromtxt(df, dtype=str, delimiter='\\t')\n",
    "        for row in df:\n",
    "            user = row.split('\\t')[-5]\n",
    "            if user not in usr2ind:\n",
    "                ind2usr[n_users] = user\n",
    "                usr2ind[user] = n_users\n",
    "                users[n_users] = defaultdict(int)\n",
    "                n_users += 1\n",
    "            users[usr2ind[user]][i] += 1\n",
    "\n",
    "    \n",
    "    if i % print_every == 0:\n",
    "        print \"Finished %d\" % (i+1)"
   ]
  },
  {
   "cell_type": "code",
   "execution_count": 46,
   "metadata": {
    "collapsed": false
   },
   "outputs": [
    {
     "name": "stdout",
     "output_type": "stream",
     "text": [
      "nsubs: 0, percent: 0.066, robust count: 23906, full count: 363300\n",
      "Total number of users: 363300, Number of selected users: 23906\n",
      "Total number of posts: 3357895\n"
     ]
    }
   ],
   "source": [
    "'''\n",
    "\n",
    "Some analytics\n",
    "\n",
    "'''\n",
    "\n",
    "counter = [0.0] * n_subs\n",
    "r_counter = [0.0] * n_subs\n",
    "n_posts = 0\n",
    "thresh_sub = 0\n",
    "thresh_posts = 25\n",
    "user_pool = []\n",
    "\n",
    "# counts the number of subreddits for which the user has posted > min_span times\n",
    "def robust_count(d, min_spans = 5):\n",
    "    return sum([1 if v >= min_spans else 0 for v in [v for v in d.values()] ])\n",
    "        \n",
    "for k, v in users.iteritems():\n",
    "    n_posts += sum([uv for _, uv in v.iteritems()]) # count number of posts user made total\n",
    "    for i in xrange(len(v)):\n",
    "        counter[i] += 1\n",
    "    for i in xrange(robust_count(v, thresh_posts)):\n",
    "        r_counter[i] += 1\n",
    "    if robust_count(v, thresh_posts) > thresh_sub:\n",
    "        user_pool.append(k)\n",
    "percents = [n / n_users for n in r_counter]\n",
    "for i, percent in enumerate(percents):\n",
    "    print \"nsubs: %d, percent: %.3f, robust count (more than %d posts): %d, full count: %d\" % \\\n",
    "            (i, percent, thresh_posts, r_counter[i], counter[i])\n",
    "    \n",
    "user_pool = set(user_pool)\n",
    "pruned_usr2ind = {}\n",
    "pruned_ind2usr = {}\n",
    "for user in user_pool:\n",
    "    pruned_ind2usr[len(pruned_usr2ind)] = ind2usr[user]\n",
    "    pruned_usr2ind[ind2usr[user]] = len(pruned_usr2ind)\n",
    "    \n",
    "print \"Total number of users: %d, Number of selected users: %d\" % (n_users, len(user_pool))\n",
    "print \"Total number of posts: %d\" % n_posts"
   ]
  },
  {
   "cell_type": "code",
   "execution_count": 47,
   "metadata": {
    "collapsed": false
   },
   "outputs": [
    {
     "name": "stdout",
     "output_type": "stream",
     "text": [
      "\t0.00\n",
      "\t0.25\n",
      "\t0.50\n",
      "\t0.75\n",
      "\t1.00\n",
      "Finished 1\n"
     ]
    }
   ],
   "source": [
    "'''\n",
    "\n",
    "Get the posts for the users that selected population of users (user_pool)\n",
    "\n",
    "'''\n",
    "\n",
    "print_every = [4.,1.]\n",
    "posts = [[[] for x in xrange(n_users)] for y in xrange(n_subs)]\n",
    "\n",
    "for i, subreddit in enumerate(subreddits):\n",
    "    nrows = sum(1 for row in open(path+subreddit+'.tsv', 'r'))\n",
    "    with open(path+subreddit+'.tsv', 'r') as df:\n",
    "        sub_ind = sub2ind[subreddit]\n",
    "        for j, row in enumerate(df):\n",
    "            data = row.split('\\t')\n",
    "            if data[-5] in pruned_usr2ind:\n",
    "                user = pruned_usr2ind[data[-5]]\n",
    "                posts[sub_ind][user].append((data[-1], data[1]))\n",
    "\n",
    "            if j % int(nrows/print_every[0]) == 0:\n",
    "                print '\\t%.2f' % (j/float(nrows))\n",
    "\n",
    "    if i % print_every[1] == 0:\n",
    "        print \"Finished %d\" % (i+1)"
   ]
  },
  {
   "cell_type": "code",
   "execution_count": 81,
   "metadata": {
    "collapsed": false
   },
   "outputs": [
    {
     "name": "stdout",
     "output_type": "stream",
     "text": [
      "Sorting by date and gathering vocab...\n"
     ]
    }
   ],
   "source": [
    "'''\n",
    "\n",
    "Build vocab\n",
    "\n",
    "'''\n",
    "\n",
    "\n",
    "outfile = '/dfs/scratch0/wangalex/rmn/reddit5'\n",
    "\n",
    "freqs = defaultdict(int)\n",
    "doc_freqs = {}\n",
    "special = ['<EOS>', '<UNK>', '<SPECIAL>', '<URL>']\n",
    "lens = []\n",
    "max_len = 0\n",
    "\n",
    "_digits = re.compile('\\d')\n",
    "def numify(s):\n",
    "    return bool(_digits.search(s))\n",
    "\n",
    "print \"Sorting by date and gathering vocab...\"\n",
    "for i in xrange(n_subs):\n",
    "    for j in xrange(n_users):\n",
    "        if posts[i][j] is []:\n",
    "            continue\n",
    "        posts[i][j].sort(key=lambda tup:tup[-1])\n",
    "        for post,_ in posts[i][j]:\n",
    "            #clean_words = re.sub(r\"[0-9]{1,}\", \"<NUM>\", re.sub(r\"<(.+?)>\", \"\", post)).strip().split()\n",
    "            clean_words = [\"<NUM>\" if numify(w) else w for w in post.strip().split()]\n",
    "            for word in clean_words:\n",
    "                if word not in doc_freqs:\n",
    "                    doc_freqs[word] = [0 for x in xrange(n_subs)]\n",
    "                doc_freqs[word][i] = 1\n",
    "                freqs[word] += 1\n",
    "            lens.append(len(clean_words))\n",
    "            max_len = max(max_len, len(clean_words))\n",
    "\n",
    "doc_freqs = {word:sum(freq) for word, freq in doc_freqs.iteritems()}"
   ]
  },
  {
   "cell_type": "code",
   "execution_count": 76,
   "metadata": {
    "collapsed": true
   },
   "outputs": [],
   "source": [
    "'''\n",
    "\n",
    "Prune vocab\n",
    "    - break up into cells because each operation is pretty costly\n",
    "    \n",
    "'''\n",
    "\n",
    "min_doc_appearances = 1\n",
    "remove_top_k = 0 # TODO: maybe up this?\n",
    "max_vocab_size = 10000\n",
    "stops = stopwords.words('english')"
   ]
  },
  {
   "cell_type": "code",
   "execution_count": 82,
   "metadata": {
    "collapsed": false
   },
   "outputs": [],
   "source": [
    "# pruning vocab borrowed from Yoon Kim\n",
    "vocab = [(word, count) for word, count in freqs.iteritems()]\n",
    "vocab.sort(key = lambda x: x[1], reverse = True)"
   ]
  },
  {
   "cell_type": "code",
   "execution_count": 83,
   "metadata": {
    "collapsed": false
   },
   "outputs": [],
   "source": [
    "no_common_words = [pair[0] for pair in vocab[remove_top_k:] if pair[0] not in stops]"
   ]
  },
  {
   "cell_type": "code",
   "execution_count": 84,
   "metadata": {
    "collapsed": true
   },
   "outputs": [],
   "source": [
    "min_doc_words = filter(lambda x: doc_freqs[x] >= min_doc_appearances, no_common_words)"
   ]
  },
  {
   "cell_type": "code",
   "execution_count": 87,
   "metadata": {
    "collapsed": false
   },
   "outputs": [
    {
     "name": "stdout",
     "output_type": "stream",
     "text": [
      "Writing vocab...\n",
      "\tFull vocab size: 335348, pruned vocab size: 10001\n"
     ]
    }
   ],
   "source": [
    "if max_vocab_size <= 1:\n",
    "    stop_pt = int(max_vocab_size * len(min_doc_words))\n",
    "else:\n",
    "    stop_pt = max_vocab_size# - len(special)\n",
    "pruned = min_doc_words[:stop_pt]\n",
    "\n",
    "word2ind = {}\n",
    "ind2word = {}\n",
    "ind = 1 # start with 1 for easy masking\n",
    "for word in special+pruned:\n",
    "    if word not in word2ind:\n",
    "        word2ind[word] = ind\n",
    "        ind2word[ind] = word\n",
    "        ind += 1\n",
    "\n",
    "print \"Writing vocab...\"\n",
    "with open(outfile+'.vocab.txt', 'w') as f:\n",
    "    f.write(\"Word Index Count DocFreq\\n\")\n",
    "    words = [(word, idx) for word, idx in word2ind.iteritems()]\n",
    "    words.sort(key = lambda x: x[1])\n",
    "    for word, idx in words:\n",
    "        if word in freqs:\n",
    "            f.write(\"%s %d %d %d\\n\" % (word, idx, freqs[word], doc_freqs[word]))\n",
    "        else:\n",
    "            f.write(\"%s %d %d %d\\n\" % (word, idx, -1, -1))\n",
    "\n",
    "with open(outfile+'.vocab.pkl', 'w') as f:\n",
    "    pickle.dump((word2ind, ind2word), f)\n",
    "\n",
    "print '\\tFull vocab size: %d, pruned vocab size: %d' % (len(vocab), len(word2ind))"
   ]
  },
  {
   "cell_type": "code",
   "execution_count": null,
   "metadata": {
    "collapsed": true
   },
   "outputs": [],
   "source": [
    "'''\n",
    "\n",
    "Generate the data\n",
    "\n",
    "'''\n",
    "\n",
    "span_data = []\n",
    "sub_data = []\n",
    "user_data = []\n",
    "\n",
    "max_len = min(max_len, 116)\n",
    "\n",
    "lengths = []\n",
    "unks = []\n",
    "\n",
    "unk = word2ind['<UNK>']\n",
    "\n",
    "for i in xrange(n_subs):\n",
    "    #sub = np.array([i], dtype=np.int32)\n",
    "    for j in xrange(n_users):\n",
    "        if not posts[i][j]:\n",
    "            continue\n",
    "        #user = np.array([j], dtype=np.int32)\n",
    "        spans = []\n",
    "        masks = []\n",
    "        for post,_ in posts[i][j]:\n",
    "            #clean_words = re.sub(r\"[0-9]{1,}\", \"<NUM>\", re.sub(r\"<(.+?)>\", \"\", post)).strip().split()\n",
    "            clean_words = [\"<NUM>\" if numify(w) else w for w in re.sub(r\"<(.+?)>\", \"\", post).strip().split()]\n",
    "            if not clean_words:\n",
    "                continue\n",
    "            span = [word2ind[word] if word in word2ind else unk for word in clean_words[:max_len]] + \\\n",
    "                    [0]*(max_len-len(clean_words))\n",
    "            sub_data.append(i)\n",
    "            user_data.append(j)\n",
    "            span_data.append(span)\n",
    "            \n",
    "            # analytics: number of unknowns and length of phrases\n",
    "            unks.append(sum(filter(lambda x: x == unk, span)))\n",
    "            lengths.append(len(span))\n",
    "\n",
    "sub_data = np.array(sub_data, dtype=np.int32)        \n",
    "user_data = np.array(user_data, dtype=np.int32)\n",
    "span_data = np.array(span_data, dtype=np.int32)\n",
    "unks = np.array(unks, dtype=np.float32) / unk\n",
    "lengths = np.array(lengths, dtype=np.float32)\n",
    "print \"Mean %% unk: %.3f, var: %.3f\" % (np.mean(unks / lengths), np.var(unks/lengths))\n",
    "print \"Max: %.3f, Min: %.3f\" % (np.max(unks / lengths), np.min(unks / lengths))"
   ]
  },
  {
   "cell_type": "code",
   "execution_count": 101,
   "metadata": {
    "collapsed": false
   },
   "outputs": [
    {
     "data": {
      "image/png": "[encoded data removed]",
      "text/plain": [
       "<matplotlib.figure.Figure at 0x7f7d368caf10>"
      ]
     },
     "metadata": {},
     "output_type": "display_data"
    }
   ],
   "source": [
    "# the histogram of the data\n",
    "n, bins, patches = plt.hist(unks/lengths, 20, normed=0, facecolor='green', alpha=0.75)\n",
    "plt.xlabel('%% unk')\n",
    "plt.ylabel('%% of data points')\n",
    "plt.grid(True)\n",
    "plt.show()"
   ]
  },
  {
   "cell_type": "code",
   "execution_count": 57,
   "metadata": {
    "collapsed": false
   },
   "outputs": [],
   "source": [
    "'''\n",
    "\n",
    "Write data to pickles and stuff\n",
    "\n",
    "'''\n",
    "\n",
    "metadata_path = '/dfs/scratch0/wangalex/rmn/reddit_news_meta.pkl'\n",
    "span_path = '/dfs/scratch0/wangalex/rmn/reddit_news_spans.hdf5'\n",
    "\n",
    "pickle.dump((word2ind, pruned_ind2usr, ind2sub), open(metadata_path, 'wb'))\n",
    "\n",
    "with h5py.File(span_path, \"w\") as f:\n",
    "    f['subs'] = sub_data\n",
    "    f['user'] = user_data\n",
    "    f['spans'] = span_data"
   ]
  },
  {
   "cell_type": "code",
   "execution_count": 102,
   "metadata": {
    "collapsed": true
   },
   "outputs": [],
   "source": [
    "'''\n",
    "\n",
    "Build word2vec pretrained embeddings\n",
    "\n",
    "'''\n",
    "\n",
    "word_vecs = {}\n",
    "vec_file = '/dfs/scratch0/gigawordvecs/GoogleNews-vectors-negative300.bin'\n",
    "word2vec_path = '/dfs/scratch0/wangalex/rmn/glove.We'\n",
    "\n",
    "with open(vec_file, \"rb\") as f:\n",
    "    header = f.readline()\n",
    "    vocab_size, layer1_size = map(int, header.split())\n",
    "    binary_len = np.dtype('float32').itemsize * layer1_size\n",
    "    for line in xrange(vocab_size):\n",
    "        word = []\n",
    "        while True:\n",
    "            ch = f.read(1)\n",
    "            if ch == ' ':\n",
    "                word = ''.join(word)\n",
    "                break\n",
    "            if ch != '\\n':\n",
    "                word.append(ch)\n",
    "        if word in word2ind:  \n",
    "            word_vecs[word] = np.fromstring(f.read(binary_len), dtype='float32')\n",
    "        else:\n",
    "            f.read(binary_len)"
   ]
  },
  {
   "cell_type": "code",
   "execution_count": 103,
   "metadata": {
    "collapsed": false
   },
   "outputs": [
    {
     "name": "stdout",
     "output_type": "stream",
     "text": [
      "\tLoaded 9844 vectors\n"
     ]
    }
   ],
   "source": [
    "# extra first row is because of how I'm constructing masks...\n",
    "embed = np.random.uniform(-0.25, 0.25, (len(word2ind), len(word_vecs.values()[0])))\n",
    "embed[0] = 0\n",
    "for word, vec in word_vecs.items():\n",
    "    embed[word2ind[word]-1] = vec\n",
    "    \n",
    "print \"\\tLoaded %d vectors\" % len(word_vecs)\n",
    "with h5py.File('/dfs/scratch0/wangalex/rmn/w2v.hdf5', 'w') as f:\n",
    "    f['w2v'] = embed"
   ]
  },
  {
   "cell_type": "code",
   "execution_count": 106,
   "metadata": {
    "collapsed": false
   },
   "outputs": [
    {
     "data": {
      "text/plain": [
       "(2158693, 116)"
      ]
     },
     "execution_count": 106,
     "metadata": {},
     "output_type": "execute_result"
    }
   ],
   "source": [
    "span_data.shape"
   ]
  },
  {
   "cell_type": "code",
   "execution_count": 104,
   "metadata": {
    "collapsed": false
   },
   "outputs": [
    {
     "name": "stdout",
     "output_type": "stream",
     "text": [
      "['non-violent', 'scalia', 'for-profit', 'atf', 'wtc', 'dorian', 'elon', 'anti-gun', 'mra', 'co-pilot', 'greenwald', 'blm', 'judgements', 'e-cigs', 'axe', 'stormfront', 'middle-class', '<SPECIAL>', 'inmarsat', 'atc', 'emts', 'travelling', 'long-term', 'leos', 'nra', 'r/worldnews', 'and/or', 'knee-jerk', 't-shirt', 'subreddit', 'licence', 'downvote', 'liberia', 'so-called', 'anti-gay', 'self-righteous', 'scotus', 'colour', 'downvotes', 'downvoted', 'downvoting', 'scotsman', 'monsanto', 'pro-gun', 'crimea', 'self-defense', 't-mobile', 'dorner', 'r/politics', 'feinstein', 'zimmerman', 'aint', 'ccw', 'offence', 'non-profit', '<EOS>', 'i.e', 'co-workers', 'kluwe', 'ffl', 'gmos', 'grey', 'wasnt', 'u.s', 'labour', 'part-time', '<URL>', 'fdr', 'b/c', 'acars', 'redditors', 'non-issue', 'p.s', 'upvoting', 'well-being', 'welp', 'upvoted', 'upvotes', 'e-mail', 'non-lethal', 'foia', 'sjw', 'snowden', '<UNK>', 'doj', 'short-term', 'trayvon', 'favour', 'ftfy', 'cancelled', 'blasio', 'defence', 'twc', 'wal-mart', 're-read', 'gtfo', 'r/news', 'pre-existing', 'mraps', 'full-time', 'syg', 'judgement', 'ptsd', 'murica', 'assad', 'nypd', 'didnt', 'subreddits', 'sjws', 'lapd', 'benghazi', 'cosby', 'upvote', 'no-knock', 'doesnt', 'him/her', 'anti-police', 'pro-life', 'african-american', 'bitcoin', 'westboro', 'redditor', 'he/she', 'anti-cop', 'low-income', 'right-wing', 'jazeera', 'circlejerk', 'ppe', 'his/her', 'law-abiding', 'tamir', 'realise', '<NUM>', 'spacex', 'saudis', 'wbc', 'same-sex', 'clickbait', 'al-qaeda', 'behaviour', 'd.c', 'shouldnt', 'isnt', 'r/conspiracy', 'e.g', 'hominem', 'fgm', 'semi-automatic', 'wwii', 'tldr', 'ebt', 'vape', 'bergdahl', 'mrap', 'non-existent', 'theatre']\n"
     ]
    }
   ],
   "source": [
    "test = [word for word in word2ind if word not in word_vecs]\n",
    "print test\n",
    "print sorted([freqs[word] for word in test])"
   ]
  }
 ],
 "metadata": {
  "kernelspec": {
   "display_name": "Python 2",
   "language": "python",
   "name": "python2"
  },
  "language_info": {
   "codemirror_mode": {
    "name": "ipython",
    "version": 2
   },
   "file_extension": ".py",
   "mimetype": "text/x-python",
   "name": "python",
   "nbconvert_exporter": "python",
   "pygments_lexer": "ipython2",
   "version": "2.7.11"
  }
 },
 "nbformat": 4,
 "nbformat_minor": 0
}
